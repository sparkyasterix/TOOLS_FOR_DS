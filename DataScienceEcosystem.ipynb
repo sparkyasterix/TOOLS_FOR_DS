{
 "cells": [
  {
   "cell_type": "markdown",
   "id": "f663ce5b",
   "metadata": {},
   "source": [
    "# Data Science Tools and Ecosystem\n"
   ]
  },
  {
   "cell_type": "markdown",
   "id": "ec0cdb8c",
   "metadata": {},
   "source": [
    "# In this notebook, Data Science Tools and Ecosystem are summarized."
   ]
  },
  {
   "cell_type": "markdown",
   "id": "42681cbf",
   "metadata": {},
   "source": [
    "# Some of the popular languages that Data Scientists use are:\n",
    "# Python\n",
    "# R\n",
    "# SQL"
   ]
  },
  {
   "cell_type": "markdown",
   "id": "56bd494f",
   "metadata": {},
   "source": [
    "# Some of the commonly used libraries used by Data Scientists include:\n",
    "# Pandas\n",
    "# SKLEARN\n",
    "# SEABORN\n"
   ]
  },
  {
   "cell_type": "markdown",
   "id": "2a16cfd1",
   "metadata": {},
   "source": [
    "| Data Science Tools|\n",
    "|---|\n",
    "| Rstudio |\n",
    "| Apache Spark |\n",
    "| Tensor Flow |\n",
    "\n"
   ]
  },
  {
   "cell_type": "markdown",
   "id": "7aa58405",
   "metadata": {},
   "source": [
    "### Below are a few examples of evaluating arithmetic expressions in Python"
   ]
  },
  {
   "cell_type": "markdown",
   "id": "c3f7035d",
   "metadata": {},
   "source": [
    "# The addition operator in Python is “+”. ...\n",
    "# The Arithmetic Operator in Python for multiplication is “*”"
   ]
  },
  {
   "cell_type": "markdown",
   "id": "42369290",
   "metadata": {},
   "source": [
    "# This a simple arithmetic expression to mutiply then add integers"
   ]
  },
  {
   "cell_type": "code",
   "execution_count": 5,
   "id": "6629cc22",
   "metadata": {},
   "outputs": [
    {
     "data": {
      "text/plain": [
       "17"
      ]
     },
     "execution_count": 5,
     "metadata": {},
     "output_type": "execute_result"
    }
   ],
   "source": [
    "(3*4)+5"
   ]
  },
  {
   "cell_type": "markdown",
   "id": "0206fb92",
   "metadata": {},
   "source": [
    " # This will convert 200 minutes to hours by diving by 60"
   ]
  },
  {
   "cell_type": "code",
   "execution_count": 9,
   "id": "6b589ac8",
   "metadata": {},
   "outputs": [
    {
     "data": {
      "text/plain": [
       "3.3333333333333335"
      ]
     },
     "execution_count": 9,
     "metadata": {},
     "output_type": "execute_result"
    }
   ],
   "source": [
    "200/60"
   ]
  },
  {
   "cell_type": "markdown",
   "id": "5b0e3366",
   "metadata": {},
   "source": [
    "# Objectives:\n",
    "* Learn about the basic Data science framework\n",
    "\n",
    "# Popular languages for data science are \n",
    "* Python\n",
    "* R\n",
    "* Java\n",
    "* Scala\n",
    "* Julia"
   ]
  },
  {
   "cell_type": "markdown",
   "id": "6da1b3b5",
   "metadata": {},
   "source": [
    "## Rahul "
   ]
  },
  {
   "cell_type": "code",
   "execution_count": null,
   "id": "ec8bd19d",
   "metadata": {},
   "outputs": [],
   "source": []
  }
 ],
 "metadata": {
  "kernelspec": {
   "display_name": "Python 3",
   "language": "python",
   "name": "python3"
  },
  "language_info": {
   "codemirror_mode": {
    "name": "ipython",
    "version": 3
   },
   "file_extension": ".py",
   "mimetype": "text/x-python",
   "name": "python",
   "nbconvert_exporter": "python",
   "pygments_lexer": "ipython3",
   "version": "3.8.8"
  }
 },
 "nbformat": 4,
 "nbformat_minor": 5
}
